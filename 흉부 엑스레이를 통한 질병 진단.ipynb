{
  "nbformat": 4,
  "nbformat_minor": 0,
  "metadata": {
    "colab": {
      "name": "흉부 엑스레이를 통한 질병 진단",
      "provenance": [],
      "collapsed_sections": [],
      "mount_file_id": "1g_IWhOkLPBMqdmrRX5ze-9dSEbrfUugz",
      "authorship_tag": "ABX9TyNJ1If20rFzXN86VgAIvXZz",
      "include_colab_link": true
    },
    "kernelspec": {
      "name": "python3",
      "display_name": "Python 3"
    },
    "accelerator": "GPU"
  },
  "cells": [
    {
      "cell_type": "markdown",
      "metadata": {
        "id": "view-in-github",
        "colab_type": "text"
      },
      "source": [
        "<a href=\"https://colab.research.google.com/github/gibiee/Predict_Pneumonia/blob/master/%ED%9D%89%EB%B6%80%20%EC%97%91%EC%8A%A4%EB%A0%88%EC%9D%B4%EB%A5%BC%20%ED%86%B5%ED%95%9C%20%EC%A7%88%EB%B3%91%20%EC%A7%84%EB%8B%A8.ipynb\" target=\"_parent\"><img src=\"https://colab.research.google.com/assets/colab-badge.svg\" alt=\"Open In Colab\"/></a>"
      ]
    },
    {
      "cell_type": "code",
      "metadata": {
        "id": "p7kdJXUWwhgV",
        "colab_type": "code",
        "colab": {
          "base_uri": "https://localhost:8080/",
          "height": 35
        },
        "outputId": "68260672-8819-4a43-e15a-410c7cbedccd"
      },
      "source": [
        "!unzip -q \"./drive/My Drive/양재 팀프로젝트/흉부 엑스레이/Dataset.zip\" -d dataset\n",
        "!ls"
      ],
      "execution_count": null,
      "outputs": [
        {
          "output_type": "stream",
          "text": [
            "dataset  drive\tsample_data\n"
          ],
          "name": "stdout"
        }
      ]
    },
    {
      "cell_type": "code",
      "metadata": {
        "id": "8HwsiYb9hLmg",
        "colab_type": "code",
        "colab": {}
      },
      "source": [
        "import tensorflow as tf\n",
        "\n",
        "# model = tf.keras.applications.VGG16(weights=None, include_top=True, input_shape=(224,224,1), classes=4)\n",
        "# model = tf.keras.applications.VGG19(weights=None, include_top=True, input_shape=(224,224,1), classes=4)\n",
        "# model = tf.keras.applications.ResNet50(weights=None, include_top=True, input_shape=(224,224,1), classes=4)\n",
        "# model = tf.keras.applications.ResNet101(weights=None, include_top=True, input_shape=(224,224,1), classes=4)\n",
        "model = tf.keras.applications.Xception(weights=None, include_top=True, input_shape=(224,224,1), classes=4)\n",
        "# model = tf.keras.applications.InceptionV3(weights=None, include_top=True, input_shape=(224,224,1), classes=4)\n",
        "# model = tf.keras.applications.InceptionResNetV2(weights=None, include_top=True, input_shape=(224,224,1), classes=4)\n",
        "\n",
        "# print(model.summary())"
      ],
      "execution_count": null,
      "outputs": []
    },
    {
      "cell_type": "code",
      "metadata": {
        "id": "wi2kw1BrwQBS",
        "colab_type": "code",
        "colab": {}
      },
      "source": [
        "model.compile(loss='categorical_crossentropy', optimizer='adam', metrics=['accuracy'])"
      ],
      "execution_count": null,
      "outputs": []
    },
    {
      "cell_type": "code",
      "metadata": {
        "id": "tKcfHO7ywhT4",
        "colab_type": "code",
        "colab": {
          "base_uri": "https://localhost:8080/",
          "height": 35
        },
        "outputId": "557c07ea-6b5c-42c3-dbd5-940fab80f824"
      },
      "source": [
        "from keras.preprocessing.image import ImageDataGenerator\n",
        "\n",
        "datagen = ImageDataGenerator(rescale=1./255, validation_split=0.2)\n",
        "train_generator = datagen.flow_from_directory('./dataset/', target_size=(224,224), color_mode='grayscale', \n",
        "                                              class_mode='categorical', subset='training')"
      ],
      "execution_count": null,
      "outputs": [
        {
          "output_type": "stream",
          "text": [
            "Found 9435 images belonging to 4 classes.\n"
          ],
          "name": "stdout"
        }
      ]
    },
    {
      "cell_type": "code",
      "metadata": {
        "id": "tzkorKxRzLj1",
        "colab_type": "code",
        "colab": {
          "base_uri": "https://localhost:8080/",
          "height": 35
        },
        "outputId": "28f1b31f-e090-4533-f672-b46261da6750"
      },
      "source": [
        "test_generator = datagen.flow_from_directory('./dataset/', target_size=(224,224), color_mode='grayscale',\n",
        "                                              shuffle=False, class_mode='categorical', subset='validation')"
      ],
      "execution_count": null,
      "outputs": [
        {
          "output_type": "stream",
          "text": [
            "Found 2357 images belonging to 4 classes.\n"
          ],
          "name": "stdout"
        }
      ]
    },
    {
      "cell_type": "code",
      "metadata": {
        "id": "UJmyPto3zLte",
        "colab_type": "code",
        "colab": {}
      },
      "source": [
        "model.fit_generator(train_generator, epochs=50)"
      ],
      "execution_count": null,
      "outputs": []
    },
    {
      "cell_type": "code",
      "metadata": {
        "id": "_f4NGU9nMHqd",
        "colab_type": "code",
        "colab": {
          "base_uri": "https://localhost:8080/",
          "height": 1000
        },
        "outputId": "3486ad71-e80b-40ac-816a-8b1b911bac20"
      },
      "source": [
        "history = model.fit_generator(train_generator, epochs=50, validation_data=test_generator)"
      ],
      "execution_count": null,
      "outputs": [
        {
          "output_type": "stream",
          "text": [
            "WARNING:tensorflow:From <ipython-input-6-85e60eeda847>:1: Model.fit_generator (from tensorflow.python.keras.engine.training) is deprecated and will be removed in a future version.\n",
            "Instructions for updating:\n",
            "Please use Model.fit, which supports generators.\n",
            "Epoch 1/50\n",
            "  2/295 [..............................] - ETA: 56s - loss: 1.1908 - accuracy: 0.5156WARNING:tensorflow:Callbacks method `on_train_batch_end` is slow compared to the batch time (batch time: 0.0951s vs `on_train_batch_end` time: 0.2955s). Check your callbacks.\n",
            "295/295 [==============================] - 168s 569ms/step - loss: 0.6111 - accuracy: 0.7399 - val_loss: 1.5935 - val_accuracy: 0.3182\n",
            "Epoch 2/50\n",
            "295/295 [==============================] - 160s 542ms/step - loss: 0.4693 - accuracy: 0.8030 - val_loss: 1.3846 - val_accuracy: 0.4319\n",
            "Epoch 3/50\n",
            "295/295 [==============================] - 162s 549ms/step - loss: 0.4251 - accuracy: 0.8194 - val_loss: 0.6179 - val_accuracy: 0.7645\n",
            "Epoch 4/50\n",
            "295/295 [==============================] - 161s 545ms/step - loss: 0.3888 - accuracy: 0.8360 - val_loss: 0.8252 - val_accuracy: 0.7102\n",
            "Epoch 5/50\n",
            "295/295 [==============================] - 161s 547ms/step - loss: 0.3586 - accuracy: 0.8531 - val_loss: 0.5550 - val_accuracy: 0.7849\n",
            "Epoch 6/50\n",
            "295/295 [==============================] - 161s 546ms/step - loss: 0.3101 - accuracy: 0.8702 - val_loss: 0.5646 - val_accuracy: 0.7768\n",
            "Epoch 7/50\n",
            "295/295 [==============================] - 161s 544ms/step - loss: 0.2595 - accuracy: 0.8961 - val_loss: 1.5869 - val_accuracy: 0.6869\n",
            "Epoch 8/50\n",
            "295/295 [==============================] - 163s 552ms/step - loss: 0.2129 - accuracy: 0.9152 - val_loss: 0.6134 - val_accuracy: 0.7828\n",
            "Epoch 9/50\n",
            "295/295 [==============================] - 164s 556ms/step - loss: 0.1614 - accuracy: 0.9394 - val_loss: 0.6880 - val_accuracy: 0.7594\n",
            "Epoch 10/50\n",
            "295/295 [==============================] - 163s 551ms/step - loss: 0.1321 - accuracy: 0.9509 - val_loss: 0.3784 - val_accuracy: 0.8740\n",
            "Epoch 11/50\n",
            "295/295 [==============================] - 162s 550ms/step - loss: 0.0902 - accuracy: 0.9672 - val_loss: 0.3871 - val_accuracy: 0.8744\n",
            "Epoch 12/50\n",
            "295/295 [==============================] - 163s 551ms/step - loss: 0.0867 - accuracy: 0.9681 - val_loss: 0.4365 - val_accuracy: 0.8706\n",
            "Epoch 13/50\n",
            "295/295 [==============================] - 162s 550ms/step - loss: 0.0719 - accuracy: 0.9729 - val_loss: 0.1881 - val_accuracy: 0.9381\n",
            "Epoch 14/50\n",
            "295/295 [==============================] - 165s 558ms/step - loss: 0.0535 - accuracy: 0.9809 - val_loss: 0.3452 - val_accuracy: 0.9054\n",
            "Epoch 15/50\n",
            "295/295 [==============================] - 163s 553ms/step - loss: 0.0545 - accuracy: 0.9813 - val_loss: 0.2469 - val_accuracy: 0.9181\n",
            "Epoch 16/50\n",
            "295/295 [==============================] - 164s 554ms/step - loss: 0.0418 - accuracy: 0.9854 - val_loss: 0.7001 - val_accuracy: 0.8362\n",
            "Epoch 17/50\n",
            "295/295 [==============================] - 164s 555ms/step - loss: 0.0466 - accuracy: 0.9843 - val_loss: 0.1760 - val_accuracy: 0.9317\n",
            "Epoch 18/50\n",
            "295/295 [==============================] - 163s 552ms/step - loss: 0.0391 - accuracy: 0.9873 - val_loss: 0.1130 - val_accuracy: 0.9652\n",
            "Epoch 19/50\n",
            "295/295 [==============================] - 164s 557ms/step - loss: 0.0424 - accuracy: 0.9846 - val_loss: 0.1907 - val_accuracy: 0.9444\n",
            "Epoch 20/50\n",
            "295/295 [==============================] - 162s 549ms/step - loss: 0.0357 - accuracy: 0.9882 - val_loss: 0.2474 - val_accuracy: 0.9096\n",
            "Epoch 21/50\n",
            "295/295 [==============================] - 163s 552ms/step - loss: 0.0272 - accuracy: 0.9910 - val_loss: 0.1386 - val_accuracy: 0.9555\n",
            "Epoch 22/50\n",
            "295/295 [==============================] - 163s 552ms/step - loss: 0.0271 - accuracy: 0.9908 - val_loss: 0.3736 - val_accuracy: 0.8965\n",
            "Epoch 23/50\n",
            "295/295 [==============================] - 164s 555ms/step - loss: 0.0557 - accuracy: 0.9810 - val_loss: 0.1802 - val_accuracy: 0.9342\n",
            "Epoch 24/50\n",
            "295/295 [==============================] - 164s 555ms/step - loss: 0.0341 - accuracy: 0.9884 - val_loss: 0.9486 - val_accuracy: 0.7947\n",
            "Epoch 25/50\n",
            "295/295 [==============================] - 165s 559ms/step - loss: 0.0204 - accuracy: 0.9921 - val_loss: 0.1997 - val_accuracy: 0.9389\n",
            "Epoch 26/50\n",
            "295/295 [==============================] - 164s 555ms/step - loss: 0.0409 - accuracy: 0.9868 - val_loss: 0.3496 - val_accuracy: 0.9062\n",
            "Epoch 27/50\n",
            "295/295 [==============================] - 164s 555ms/step - loss: 0.0369 - accuracy: 0.9879 - val_loss: 0.2079 - val_accuracy: 0.9376\n",
            "Epoch 28/50\n",
            "295/295 [==============================] - 164s 554ms/step - loss: 0.0198 - accuracy: 0.9936 - val_loss: 0.1298 - val_accuracy: 0.9597\n",
            "Epoch 29/50\n",
            "295/295 [==============================] - 163s 553ms/step - loss: 0.0224 - accuracy: 0.9930 - val_loss: 0.9365 - val_accuracy: 0.8120\n",
            "Epoch 30/50\n",
            "295/295 [==============================] - 164s 557ms/step - loss: 0.0427 - accuracy: 0.9858 - val_loss: 0.3854 - val_accuracy: 0.8914\n",
            "Epoch 31/50\n",
            "295/295 [==============================] - 165s 559ms/step - loss: 0.0302 - accuracy: 0.9887 - val_loss: 0.1417 - val_accuracy: 0.9495\n",
            "Epoch 32/50\n",
            "295/295 [==============================] - 159s 539ms/step - loss: 0.0252 - accuracy: 0.9906 - val_loss: 0.0912 - val_accuracy: 0.9716\n",
            "Epoch 33/50\n",
            "295/295 [==============================] - 157s 533ms/step - loss: 0.0167 - accuracy: 0.9943 - val_loss: 0.1368 - val_accuracy: 0.9652\n",
            "Epoch 34/50\n",
            "295/295 [==============================] - 159s 538ms/step - loss: 0.0295 - accuracy: 0.9904 - val_loss: 0.3604 - val_accuracy: 0.9084\n",
            "Epoch 35/50\n",
            "295/295 [==============================] - 159s 540ms/step - loss: 0.0185 - accuracy: 0.9942 - val_loss: 0.4756 - val_accuracy: 0.8659\n",
            "Epoch 36/50\n",
            "295/295 [==============================] - 161s 546ms/step - loss: 0.0160 - accuracy: 0.9950 - val_loss: 0.1628 - val_accuracy: 0.9512\n",
            "Epoch 37/50\n",
            "295/295 [==============================] - 159s 539ms/step - loss: 0.0192 - accuracy: 0.9936 - val_loss: 0.2955 - val_accuracy: 0.9321\n",
            "Epoch 38/50\n",
            "295/295 [==============================] - 160s 541ms/step - loss: 0.0207 - accuracy: 0.9939 - val_loss: 0.1308 - val_accuracy: 0.9605\n",
            "Epoch 39/50\n",
            "295/295 [==============================] - 161s 545ms/step - loss: 0.0244 - accuracy: 0.9924 - val_loss: 0.1031 - val_accuracy: 0.9648\n",
            "Epoch 40/50\n",
            "295/295 [==============================] - 161s 544ms/step - loss: 0.0091 - accuracy: 0.9964 - val_loss: 0.0408 - val_accuracy: 0.9885\n",
            "Epoch 41/50\n",
            "295/295 [==============================] - 162s 549ms/step - loss: 0.0071 - accuracy: 0.9977 - val_loss: 0.2903 - val_accuracy: 0.9143\n",
            "Epoch 42/50\n",
            "295/295 [==============================] - 161s 544ms/step - loss: 0.0548 - accuracy: 0.9809 - val_loss: 0.3028 - val_accuracy: 0.8969\n",
            "Epoch 43/50\n",
            "295/295 [==============================] - 161s 546ms/step - loss: 0.0153 - accuracy: 0.9951 - val_loss: 0.1742 - val_accuracy: 0.9415\n",
            "Epoch 44/50\n",
            "295/295 [==============================] - 162s 549ms/step - loss: 0.0179 - accuracy: 0.9935 - val_loss: 0.1088 - val_accuracy: 0.9644\n",
            "Epoch 45/50\n",
            "295/295 [==============================] - 163s 551ms/step - loss: 0.0096 - accuracy: 0.9969 - val_loss: 0.1063 - val_accuracy: 0.9686\n",
            "Epoch 46/50\n",
            "295/295 [==============================] - 163s 551ms/step - loss: 0.0180 - accuracy: 0.9931 - val_loss: 0.1976 - val_accuracy: 0.9465\n",
            "Epoch 47/50\n",
            "295/295 [==============================] - 164s 557ms/step - loss: 0.0137 - accuracy: 0.9951 - val_loss: 0.1397 - val_accuracy: 0.9576\n",
            "Epoch 48/50\n",
            "295/295 [==============================] - 163s 551ms/step - loss: 0.0166 - accuracy: 0.9947 - val_loss: 0.0723 - val_accuracy: 0.9796\n",
            "Epoch 49/50\n",
            "295/295 [==============================] - 163s 553ms/step - loss: 0.0228 - accuracy: 0.9932 - val_loss: 0.2230 - val_accuracy: 0.9478\n",
            "Epoch 50/50\n",
            "295/295 [==============================] - 163s 553ms/step - loss: 0.0198 - accuracy: 0.9935 - val_loss: 0.1707 - val_accuracy: 0.9499\n"
          ],
          "name": "stdout"
        }
      ]
    },
    {
      "cell_type": "code",
      "metadata": {
        "id": "e67XykY6MRgW",
        "colab_type": "code",
        "colab": {
          "base_uri": "https://localhost:8080/",
          "height": 265
        },
        "outputId": "f0f2e409-46fd-4fc9-a739-8f15983a976b"
      },
      "source": [
        "# 학습 과정에서의 loss와 val_loss 시각화\n",
        "import matplotlib.pyplot as plt\n",
        "\n",
        "plt.plot(history.history['accuracy'])\n",
        "plt.plot(history.history['val_accuracy'])\n",
        "plt.legend(['train_accuracy', 'val_accuracy'])\n",
        "plt.show()"
      ],
      "execution_count": null,
      "outputs": [
        {
          "output_type": "display_data",
          "data": {
            "image/png": "[encoded data removed]",
            "text/plain": [
              "<Figure size 432x288 with 1 Axes>"
            ]
          },
          "metadata": {
            "tags": [],
            "needs_background": "light"
          }
        }
      ]
    },
    {
      "cell_type": "code",
      "metadata": {
        "id": "zu5FT3wdy9-T",
        "colab_type": "code",
        "colab": {
          "base_uri": "https://localhost:8080/",
          "height": 107
        },
        "outputId": "7e47a420-ac40-407f-a26f-1eec7c8ed807"
      },
      "source": [
        "print(model.metrics_names)\n",
        "model.evaluate_generator(test_generator)"
      ],
      "execution_count": null,
      "outputs": [
        {
          "output_type": "stream",
          "text": [
            "['loss', 'accuracy']\n",
            "WARNING:tensorflow:From <ipython-input-8-d312e3e51fce>:2: Model.evaluate_generator (from tensorflow.python.keras.engine.training) is deprecated and will be removed in a future version.\n",
            "Instructions for updating:\n",
            "Please use Model.evaluate, which supports generators.\n"
          ],
          "name": "stdout"
        },
        {
          "output_type": "execute_result",
          "data": {
            "text/plain": [
              "[0.1706990897655487, 0.9499363303184509]"
            ]
          },
          "metadata": {
            "tags": []
          },
          "execution_count": 8
        }
      ]
    },
    {
      "cell_type": "code",
      "metadata": {
        "id": "9bSLmzsigSL_",
        "colab_type": "code",
        "colab": {
          "base_uri": "https://localhost:8080/",
          "height": 89
        },
        "outputId": "bab74094-8c87-45e9-d103-b9f6303629da"
      },
      "source": [
        "# accuracy 검증\n",
        "import numpy as np\n",
        "\n",
        "predict = model.predict_generator(test_generator)\n",
        "len([i for i,j in zip(np.argmax(predict, axis=1), test_generator.labels) if i==j]) / len(test_generator.labels)"
      ],
      "execution_count": null,
      "outputs": [
        {
          "output_type": "stream",
          "text": [
            "WARNING:tensorflow:From <ipython-input-13-5a436be9fc8e>:4: Model.predict_generator (from tensorflow.python.keras.engine.training) is deprecated and will be removed in a future version.\n",
            "Instructions for updating:\n",
            "Please use Model.predict, which supports generators.\n"
          ],
          "name": "stdout"
        },
        {
          "output_type": "execute_result",
          "data": {
            "text/plain": [
              "0.9499363597793806"
            ]
          },
          "metadata": {
            "tags": []
          },
          "execution_count": 13
        }
      ]
    },
    {
      "cell_type": "code",
      "metadata": {
        "id": "_kDXdvgL0mM2",
        "colab_type": "code",
        "colab": {
          "base_uri": "https://localhost:8080/",
          "height": 107
        },
        "outputId": "070e5004-8a3f-4eee-b9a3-bbdfc8792588"
      },
      "source": [
        "from sklearn.metrics import confusion_matrix\n",
        "\n",
        "print(test_generator.class_indices)\n",
        "cm = confusion_matrix(np.argmax(predict, axis=1), test_generator.labels)\n",
        "print(cm)"
      ],
      "execution_count": null,
      "outputs": [
        {
          "output_type": "stream",
          "text": [
            "{'바이러스성 폐렴': 0, '박테리아성 폐렴': 1, '정상': 2, '코로나': 3}\n",
            "[[588  13   0   0]\n",
            " [101 736   1   0]\n",
            " [  2   1 850   0]\n",
            " [  0   0   0  65]]\n"
          ],
          "name": "stdout"
        }
      ]
    },
    {
      "cell_type": "code",
      "metadata": {
        "id": "iDzLTgJZREtX",
        "colab_type": "code",
        "colab": {}
      },
      "source": [
        "model.save('./drive/My Drive/양재 팀프로젝트/흉부 엑스레이/model_epoch50.h5')"
      ],
      "execution_count": null,
      "outputs": []
    },
    {
      "cell_type": "code",
      "metadata": {
        "id": "foi0LWBq3Obv",
        "colab_type": "code",
        "colab": {}
      },
      "source": [
        "# t1 = [1,1,2,2,3,3] # 예측\n",
        "# t2 = [1,1,1,1,1,1] # 정답\n",
        "\n",
        "# confusion_matrix(t1, t2)"
      ],
      "execution_count": null,
      "outputs": []
    }
  ]
}